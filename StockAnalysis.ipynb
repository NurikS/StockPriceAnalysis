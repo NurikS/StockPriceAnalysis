{
  "nbformat": 4,
  "nbformat_minor": 0,
  "metadata": {
    "colab": {
      "name": "StockAnalysis.ipynb",
      "version": "0.3.2",
      "provenance": [],
      "collapsed_sections": [],
      "include_colab_link": true
    },
    "kernelspec": {
      "name": "python3",
      "display_name": "Python 3"
    },
    "accelerator": "GPU"
  },
  "cells": [
    {
      "cell_type": "markdown",
      "metadata": {
        "id": "view-in-github",
        "colab_type": "text"
      },
      "source": [
        "<a href=\"https://colab.research.google.com/github/NurikS/StockPriceAnalysis/blob/master/StockAnalysis.ipynb\" target=\"_parent\"><img src=\"https://colab.research.google.com/assets/colab-badge.svg\" alt=\"Open In Colab\"/></a>"
      ]
    },
    {
      "cell_type": "markdown",
      "metadata": {
        "id": "Qnn-oI4rSMJM",
        "colab_type": "text"
      },
      "source": [
        "# Stock analysis\n",
        "#### This is the 2nd homework for the \"make money with machine learning\" course.\n",
        "\n",
        "I have decided to analyze Microsoft stocks."
      ]
    },
    {
      "cell_type": "markdown",
      "metadata": {
        "id": "kYNHkDFuTDqD",
        "colab_type": "text"
      },
      "source": [
        "First let's import our data"
      ]
    },
    {
      "cell_type": "code",
      "metadata": {
        "id": "lzaumiZLSGNk",
        "colab_type": "code",
        "outputId": "81490257-e87a-4520-c1ac-c5146069b297",
        "colab": {
          "base_uri": "https://localhost:8080/",
          "height": 237
        }
      },
      "source": [
        "import numpy as np\n",
        "import pandas as pd\n",
        "import datetime\n",
        "import pandas_datareader.data as web\n",
        "from pandas import Series, DataFrame\n",
        "\n",
        "start = datetime.datetime(2010, 1, 1)\n",
        "end = datetime.datetime(2019, 1, 1)\n",
        "\n",
        "df = web.DataReader(\"MSFT\", \"yahoo\", start, end)\n",
        "df.head()"
      ],
      "execution_count": 1,
      "outputs": [
        {
          "output_type": "execute_result",
          "data": {
            "text/html": [
              "<div>\n",
              "<style scoped>\n",
              "    .dataframe tbody tr th:only-of-type {\n",
              "        vertical-align: middle;\n",
              "    }\n",
              "\n",
              "    .dataframe tbody tr th {\n",
              "        vertical-align: top;\n",
              "    }\n",
              "\n",
              "    .dataframe thead th {\n",
              "        text-align: right;\n",
              "    }\n",
              "</style>\n",
              "<table border=\"1\" class=\"dataframe\">\n",
              "  <thead>\n",
              "    <tr style=\"text-align: right;\">\n",
              "      <th></th>\n",
              "      <th>High</th>\n",
              "      <th>Low</th>\n",
              "      <th>Open</th>\n",
              "      <th>Close</th>\n",
              "      <th>Volume</th>\n",
              "      <th>Adj Close</th>\n",
              "    </tr>\n",
              "    <tr>\n",
              "      <th>Date</th>\n",
              "      <th></th>\n",
              "      <th></th>\n",
              "      <th></th>\n",
              "      <th></th>\n",
              "      <th></th>\n",
              "      <th></th>\n",
              "    </tr>\n",
              "  </thead>\n",
              "  <tbody>\n",
              "    <tr>\n",
              "      <th>2010-01-04</th>\n",
              "      <td>31.100000</td>\n",
              "      <td>30.590000</td>\n",
              "      <td>30.620001</td>\n",
              "      <td>30.950001</td>\n",
              "      <td>38409100.0</td>\n",
              "      <td>24.443624</td>\n",
              "    </tr>\n",
              "    <tr>\n",
              "      <th>2010-01-05</th>\n",
              "      <td>31.100000</td>\n",
              "      <td>30.639999</td>\n",
              "      <td>30.850000</td>\n",
              "      <td>30.959999</td>\n",
              "      <td>49749600.0</td>\n",
              "      <td>24.451517</td>\n",
              "    </tr>\n",
              "    <tr>\n",
              "      <th>2010-01-06</th>\n",
              "      <td>31.080000</td>\n",
              "      <td>30.520000</td>\n",
              "      <td>30.879999</td>\n",
              "      <td>30.770000</td>\n",
              "      <td>58182400.0</td>\n",
              "      <td>24.301458</td>\n",
              "    </tr>\n",
              "    <tr>\n",
              "      <th>2010-01-07</th>\n",
              "      <td>30.700001</td>\n",
              "      <td>30.190001</td>\n",
              "      <td>30.629999</td>\n",
              "      <td>30.450001</td>\n",
              "      <td>50559700.0</td>\n",
              "      <td>24.048725</td>\n",
              "    </tr>\n",
              "    <tr>\n",
              "      <th>2010-01-08</th>\n",
              "      <td>30.879999</td>\n",
              "      <td>30.240000</td>\n",
              "      <td>30.280001</td>\n",
              "      <td>30.660000</td>\n",
              "      <td>51197400.0</td>\n",
              "      <td>24.214581</td>\n",
              "    </tr>\n",
              "  </tbody>\n",
              "</table>\n",
              "</div>"
            ],
            "text/plain": [
              "                 High        Low       Open      Close      Volume  Adj Close\n",
              "Date                                                                         \n",
              "2010-01-04  31.100000  30.590000  30.620001  30.950001  38409100.0  24.443624\n",
              "2010-01-05  31.100000  30.639999  30.850000  30.959999  49749600.0  24.451517\n",
              "2010-01-06  31.080000  30.520000  30.879999  30.770000  58182400.0  24.301458\n",
              "2010-01-07  30.700001  30.190001  30.629999  30.450001  50559700.0  24.048725\n",
              "2010-01-08  30.879999  30.240000  30.280001  30.660000  51197400.0  24.214581"
            ]
          },
          "metadata": {
            "tags": []
          },
          "execution_count": 1
        }
      ]
    },
    {
      "cell_type": "code",
      "metadata": {
        "id": "m-IXby4YUJE6",
        "colab_type": "code",
        "outputId": "be93ca4d-2cb2-4fc7-9e6d-301209cef20d",
        "colab": {
          "base_uri": "https://localhost:8080/",
          "height": 300
        }
      },
      "source": [
        "df.describe()"
      ],
      "execution_count": 2,
      "outputs": [
        {
          "output_type": "execute_result",
          "data": {
            "text/html": [
              "<div>\n",
              "<style scoped>\n",
              "    .dataframe tbody tr th:only-of-type {\n",
              "        vertical-align: middle;\n",
              "    }\n",
              "\n",
              "    .dataframe tbody tr th {\n",
              "        vertical-align: top;\n",
              "    }\n",
              "\n",
              "    .dataframe thead th {\n",
              "        text-align: right;\n",
              "    }\n",
              "</style>\n",
              "<table border=\"1\" class=\"dataframe\">\n",
              "  <thead>\n",
              "    <tr style=\"text-align: right;\">\n",
              "      <th></th>\n",
              "      <th>High</th>\n",
              "      <th>Low</th>\n",
              "      <th>Open</th>\n",
              "      <th>Close</th>\n",
              "      <th>Volume</th>\n",
              "      <th>Adj Close</th>\n",
              "    </tr>\n",
              "  </thead>\n",
              "  <tbody>\n",
              "    <tr>\n",
              "      <th>count</th>\n",
              "      <td>2264.000000</td>\n",
              "      <td>2264.000000</td>\n",
              "      <td>2264.000000</td>\n",
              "      <td>2264.000000</td>\n",
              "      <td>2.264000e+03</td>\n",
              "      <td>2264.000000</td>\n",
              "    </tr>\n",
              "    <tr>\n",
              "      <th>mean</th>\n",
              "      <td>48.480839</td>\n",
              "      <td>47.635742</td>\n",
              "      <td>48.070428</td>\n",
              "      <td>48.078754</td>\n",
              "      <td>4.163436e+07</td>\n",
              "      <td>44.056861</td>\n",
              "    </tr>\n",
              "    <tr>\n",
              "      <th>std</th>\n",
              "      <td>24.122417</td>\n",
              "      <td>23.658304</td>\n",
              "      <td>23.918008</td>\n",
              "      <td>23.896496</td>\n",
              "      <td>2.348979e+07</td>\n",
              "      <td>24.912756</td>\n",
              "    </tr>\n",
              "    <tr>\n",
              "      <th>min</th>\n",
              "      <td>23.320000</td>\n",
              "      <td>22.730000</td>\n",
              "      <td>23.090000</td>\n",
              "      <td>23.010000</td>\n",
              "      <td>7.425600e+06</td>\n",
              "      <td>18.340149</td>\n",
              "    </tr>\n",
              "    <tr>\n",
              "      <th>25%</th>\n",
              "      <td>29.190001</td>\n",
              "      <td>28.615001</td>\n",
              "      <td>28.887499</td>\n",
              "      <td>28.860001</td>\n",
              "      <td>2.586055e+07</td>\n",
              "      <td>23.907104</td>\n",
              "    </tr>\n",
              "    <tr>\n",
              "      <th>50%</th>\n",
              "      <td>41.674999</td>\n",
              "      <td>41.040001</td>\n",
              "      <td>41.369999</td>\n",
              "      <td>41.469999</td>\n",
              "      <td>3.620060e+07</td>\n",
              "      <td>37.109535</td>\n",
              "    </tr>\n",
              "    <tr>\n",
              "      <th>75%</th>\n",
              "      <td>58.067501</td>\n",
              "      <td>57.427499</td>\n",
              "      <td>57.872499</td>\n",
              "      <td>57.889999</td>\n",
              "      <td>5.172612e+07</td>\n",
              "      <td>54.531412</td>\n",
              "    </tr>\n",
              "    <tr>\n",
              "      <th>max</th>\n",
              "      <td>116.180000</td>\n",
              "      <td>114.930000</td>\n",
              "      <td>115.419998</td>\n",
              "      <td>115.610001</td>\n",
              "      <td>3.193179e+08</td>\n",
              "      <td>113.821434</td>\n",
              "    </tr>\n",
              "  </tbody>\n",
              "</table>\n",
              "</div>"
            ],
            "text/plain": [
              "              High          Low  ...        Volume    Adj Close\n",
              "count  2264.000000  2264.000000  ...  2.264000e+03  2264.000000\n",
              "mean     48.480839    47.635742  ...  4.163436e+07    44.056861\n",
              "std      24.122417    23.658304  ...  2.348979e+07    24.912756\n",
              "min      23.320000    22.730000  ...  7.425600e+06    18.340149\n",
              "25%      29.190001    28.615001  ...  2.586055e+07    23.907104\n",
              "50%      41.674999    41.040001  ...  3.620060e+07    37.109535\n",
              "75%      58.067501    57.427499  ...  5.172612e+07    54.531412\n",
              "max     116.180000   114.930000  ...  3.193179e+08   113.821434\n",
              "\n",
              "[8 rows x 6 columns]"
            ]
          },
          "metadata": {
            "tags": []
          },
          "execution_count": 2
        }
      ]
    },
    {
      "cell_type": "code",
      "metadata": {
        "id": "gFBHCqBjUSwk",
        "colab_type": "code",
        "outputId": "cbb1062c-b3c8-4082-d040-f43c5414ab4a",
        "colab": {
          "base_uri": "https://localhost:8080/",
          "height": 36
        }
      },
      "source": [
        "df.shape"
      ],
      "execution_count": 3,
      "outputs": [
        {
          "output_type": "execute_result",
          "data": {
            "text/plain": [
              "(2264, 6)"
            ]
          },
          "metadata": {
            "tags": []
          },
          "execution_count": 3
        }
      ]
    },
    {
      "cell_type": "code",
      "metadata": {
        "id": "oX7nYIptUz67",
        "colab_type": "code",
        "outputId": "75ab7559-b551-4bf0-ce73-22f8a40b19ee",
        "colab": {
          "base_uri": "https://localhost:8080/",
          "height": 292
        }
      },
      "source": [
        "import matplotlib.pyplot as plt\n",
        "\n",
        "close_px = df[\"Adj Close\"]\n",
        "close_px.plot(label='AAPL')"
      ],
      "execution_count": 4,
      "outputs": [
        {
          "output_type": "execute_result",
          "data": {
            "text/plain": [
              "<matplotlib.axes._subplots.AxesSubplot at 0x7f6d28d78358>"
            ]
          },
          "metadata": {
            "tags": []
          },
          "execution_count": 4
        },
        {
          "output_type": "display_data",
          "data": {
            "image/png": "[encoded data removed]",
            "text/plain": [
              "<Figure size 432x288 with 1 Axes>"
            ]
          },
          "metadata": {
            "tags": []
          }
        }
      ]
    },
    {
      "cell_type": "code",
      "metadata": {
        "id": "FCSuTKw-VUVX",
        "colab_type": "code",
        "colab": {}
      },
      "source": [
        "predictive_window = 29\n",
        "num_samples = len(df) - predictive_window\n",
        "indices = np.arange(num_samples).astype(np.int)[:, None] + np.arange(predictive_window + 1).astype(np.int)\n",
        "\n",
        "data = df[\"Adj Close\"].values[indices]"
      ],
      "execution_count": 0,
      "outputs": []
    },
    {
      "cell_type": "code",
      "metadata": {
        "id": "5_3WImgT8Lnp",
        "colab_type": "code",
        "colab": {}
      },
      "source": [
        "X = data[:, :-1]\n",
        "y = data[:, -1]"
      ],
      "execution_count": 0,
      "outputs": []
    },
    {
      "cell_type": "code",
      "metadata": {
        "id": "BDu8GWW-8ivb",
        "colab_type": "code",
        "colab": {}
      },
      "source": [
        "from sklearn.model_selection import train_test_split\n",
        "X_train, X_test, y_train, y_test = train_test_split(X, y, test_size=0.2, shuffle=False)"
      ],
      "execution_count": 0,
      "outputs": []
    },
    {
      "cell_type": "markdown",
      "metadata": {
        "id": "Vuf5dmvbVUAr",
        "colab_type": "text"
      },
      "source": [
        "First let's try some linear model"
      ]
    },
    {
      "cell_type": "code",
      "metadata": {
        "id": "yIpQBndTVTic",
        "colab_type": "code",
        "outputId": "46e291c6-93a9-45ad-ed66-85321c48c80f",
        "colab": {
          "base_uri": "https://localhost:8080/",
          "height": 54
        }
      },
      "source": [
        "from sklearn.linear_model import Ridge\n",
        "\n",
        "RidgeClf = Ridge(alpha=0.1)\n",
        "RidgeClf.fit(X_train, y_train)"
      ],
      "execution_count": 12,
      "outputs": [
        {
          "output_type": "execute_result",
          "data": {
            "text/plain": [
              "Ridge(alpha=0.1, copy_X=True, fit_intercept=True, max_iter=None,\n",
              "      normalize=False, random_state=None, solver='auto', tol=0.001)"
            ]
          },
          "metadata": {
            "tags": []
          },
          "execution_count": 12
        }
      ]
    },
    {
      "cell_type": "code",
      "metadata": {
        "id": "6HUHF-53WPQ1",
        "colab_type": "code",
        "colab": {}
      },
      "source": [
        "preds = RidgeClf.predict(X_test)"
      ],
      "execution_count": 0,
      "outputs": []
    },
    {
      "cell_type": "code",
      "metadata": {
        "id": "b6NNQI11kufQ",
        "colab_type": "code",
        "outputId": "220b7783-f546-4820-f6ba-c797ac7739fe",
        "colab": {
          "base_uri": "https://localhost:8080/",
          "height": 288
        }
      },
      "source": [
        "plt.plot(preds, 'r', label=\"Predictions\")\n",
        "plt.plot(y_test, 'b', label=\"Actual Value\")\n",
        "plt.legend()"
      ],
      "execution_count": 14,
      "outputs": [
        {
          "output_type": "execute_result",
          "data": {
            "text/plain": [
              "<matplotlib.legend.Legend at 0x7f6d11386630>"
            ]
          },
          "metadata": {
            "tags": []
          },
          "execution_count": 14
        },
        {
          "output_type": "display_data",
          "data": {
            "image/png": "[encoded data removed]",
            "text/plain": [
              "<Figure size 432x288 with 1 Axes>"
            ]
          },
          "metadata": {
            "tags": []
          }
        }
      ]
    },
    {
      "cell_type": "markdown",
      "metadata": {
        "id": "Gxwx10Ypmitg",
        "colab_type": "text"
      },
      "source": [
        "This looks suspicious. Too good. Let's try tree-based models, such as gradient boosted trees."
      ]
    },
    {
      "cell_type": "code",
      "metadata": {
        "id": "OOWpyChqm-29",
        "colab_type": "code",
        "outputId": "efb6df7f-6f84-4d15-8818-0389d77e45b8",
        "colab": {
          "base_uri": "https://localhost:8080/",
          "height": 186
        }
      },
      "source": [
        "from xgboost import XGBRegressor as Regressor\n",
        "\n",
        "GBClf = Regressor()\n",
        "GBClf.fit(X_train, y_train)"
      ],
      "execution_count": 50,
      "outputs": [
        {
          "output_type": "stream",
          "text": [
            "[20:41:41] WARNING: /workspace/src/objective/regression_obj.cu:152: reg:linear is now deprecated in favor of reg:squarederror.\n"
          ],
          "name": "stdout"
        },
        {
          "output_type": "execute_result",
          "data": {
            "text/plain": [
              "XGBRegressor(base_score=0.5, booster='gbtree', colsample_bylevel=1,\n",
              "             colsample_bynode=1, colsample_bytree=1, gamma=0,\n",
              "             importance_type='gain', learning_rate=0.1, max_delta_step=0,\n",
              "             max_depth=3, min_child_weight=1, missing=None, n_estimators=100,\n",
              "             n_jobs=1, nthread=None, objective='reg:linear', random_state=0,\n",
              "             reg_alpha=0, reg_lambda=1, scale_pos_weight=1, seed=None,\n",
              "             silent=None, subsample=1, verbosity=1)"
            ]
          },
          "metadata": {
            "tags": []
          },
          "execution_count": 50
        }
      ]
    },
    {
      "cell_type": "code",
      "metadata": {
        "id": "BaHUn5-RT94q",
        "colab_type": "code",
        "colab": {
          "base_uri": "https://localhost:8080/",
          "height": 259
        },
        "outputId": "c1717cf0-cd6c-4ff1-a1df-00914a20316c"
      },
      "source": [
        "X_test"
      ],
      "execution_count": 51,
      "outputs": [
        {
          "output_type": "execute_result",
          "data": {
            "text/plain": [
              "array([[ 60.90365219,  60.84661102,  61.53113556, ...,  62.10502243,\n",
              "         61.41635132,  62.20067596],\n",
              "       [ 60.84661102,  61.53113556,  61.7606926 , ...,  61.41635132,\n",
              "         62.20067596,  62.04763794],\n",
              "       [ 61.53113556,  61.7606926 ,  61.72242355, ...,  62.20067596,\n",
              "         62.04763794,  62.15285873],\n",
              "       ...,\n",
              "       [105.28556824, 103.79250336, 106.07659912, ...,  97.12810516,\n",
              "         93.07409668,  99.43197632],\n",
              "       [103.79250336, 106.07659912, 107.07525635, ...,  93.07409668,\n",
              "         99.43197632, 100.04501343],\n",
              "       [106.07659912, 107.07525635, 103.44643402, ...,  99.43197632,\n",
              "        100.04501343,  99.26387787]])"
            ]
          },
          "metadata": {
            "tags": []
          },
          "execution_count": 51
        }
      ]
    },
    {
      "cell_type": "code",
      "metadata": {
        "id": "5D1NvIWfL6js",
        "colab_type": "code",
        "colab": {}
      },
      "source": [
        "predsGB = GBClf.predict(X_test)"
      ],
      "execution_count": 0,
      "outputs": []
    },
    {
      "cell_type": "code",
      "metadata": {
        "id": "OW0rtB5rMOkf",
        "colab_type": "code",
        "colab": {
          "base_uri": "https://localhost:8080/",
          "height": 288
        },
        "outputId": "c741739f-8bde-4374-c8c3-d38edd6a3581"
      },
      "source": [
        "plt.plot(predsGB, 'r', label=\"Predictions\")\n",
        "plt.plot(y_test, 'b', label=\"Actual Value\")\n",
        "plt.legend()"
      ],
      "execution_count": 49,
      "outputs": [
        {
          "output_type": "execute_result",
          "data": {
            "text/plain": [
              "<matplotlib.legend.Legend at 0x7f6ce0f07cf8>"
            ]
          },
          "metadata": {
            "tags": []
          },
          "execution_count": 49
        },
        {
          "output_type": "display_data",
          "data": {
            "image/png": "[encoded data removed]",
            "text/plain": [
              "<Figure size 432x288 with 1 Axes>"
            ]
          },
          "metadata": {
            "tags": []
          }
        }
      ]
    },
    {
      "cell_type": "markdown",
      "metadata": {
        "id": "6pVjTStYe3Rs",
        "colab_type": "text"
      },
      "source": [
        "It is understandable that tree based methods perform worse than linear ones. However, there might be something else, need to check."
      ]
    },
    {
      "cell_type": "code",
      "metadata": {
        "id": "3vY-XUV-PV6K",
        "colab_type": "code",
        "colab": {}
      },
      "source": [
        "import keras\n",
        "from keras.models import Sequential\n",
        "from keras.layers import Dense, LSTM, Dropout, Conv1D\n",
        "from keras.optimizers import Adam\n",
        "from tensorflow.keras.losses import Huber\n",
        "\n",
        "\n",
        "model=Sequential()\n",
        "model.add(Conv1D(filters=128, kernel_size=5, input_shape=(predictive_window, 1), strides=1, padding=\"causal\", activation=\"tanh\"))\n",
        "model.add(Conv1D(filters=128, kernel_size=5, strides=1, padding=\"causal\", activation=\"tanh\"))\n",
        "model.add(LSTM(128, activation=\"tanh\", return_sequences=True))\n",
        "model.add(LSTM(128))\n",
        "model.add(Dense(64, activation=\"relu\"))\n",
        "model.add(Dense(32, activation=\"relu\"))\n",
        "model.add(Dense(64, activation=\"relu\"))\n",
        "model.add(Dense(1))\n",
        "\n",
        "model.compile(loss=Huber(), optimizer=Adam(lr=0.001), metrics=[\"mae\"])\n",
        "\n"
      ],
      "execution_count": 0,
      "outputs": []
    },
    {
      "cell_type": "code",
      "metadata": {
        "id": "oDDi6_QLYdWj",
        "colab_type": "code",
        "colab": {}
      },
      "source": [
        "from sklearn.preprocessing import MinMaxScaler\n",
        "from sklearn.model_selection import train_test_split\n",
        "\n",
        "scaler = MinMaxScaler()\n",
        "transform = scaler.fit_transform(df[\"Adj Close\"].values[:,None])\n",
        "transform = transform[indices]\n",
        "X2 = transform[:,:-1]\n",
        "y2 = transform[:,-1]\n",
        "X_train_reshaped, X_test_reshaped, y_train_reshaped, y_test_reshaped = train_test_split(X2, y2, test_size=0.2, shuffle=False)"
      ],
      "execution_count": 0,
      "outputs": []
    },
    {
      "cell_type": "code",
      "metadata": {
        "id": "AkazofTyXDCl",
        "colab_type": "code",
        "colab": {}
      },
      "source": [
        "model.fit(X_train_reshaped, y_train_reshaped, batch_size=128, epochs=150)"
      ],
      "execution_count": 0,
      "outputs": []
    },
    {
      "cell_type": "code",
      "metadata": {
        "id": "Ak9-26bwboZf",
        "colab_type": "code",
        "colab": {}
      },
      "source": [
        "predsNN = scaler.inverse_transform(model.predict(X_test_reshaped, batch_size=128))"
      ],
      "execution_count": 0,
      "outputs": []
    },
    {
      "cell_type": "code",
      "metadata": {
        "id": "pwj_v_sJcMDV",
        "colab_type": "code",
        "colab": {
          "base_uri": "https://localhost:8080/",
          "height": 288
        },
        "outputId": "dc3dd759-02b0-4433-84eb-429b6a1d5d43"
      },
      "source": [
        "plt.plot(predsNN, 'r', label=\"Predictions\")\n",
        "plt.plot(y_test, 'b', label=\"Actual Value\")\n",
        "plt.legend()"
      ],
      "execution_count": 78,
      "outputs": [
        {
          "output_type": "execute_result",
          "data": {
            "text/plain": [
              "<matplotlib.legend.Legend at 0x7f6b907114a8>"
            ]
          },
          "metadata": {
            "tags": []
          },
          "execution_count": 78
        },
        {
          "output_type": "display_data",
          "data": {
            "image/png": "[encoded data removed]",
            "text/plain": [
              "<Figure size 432x288 with 1 Axes>"
            ]
          },
          "metadata": {
            "tags": []
          }
        }
      ]
    }
  ]
}